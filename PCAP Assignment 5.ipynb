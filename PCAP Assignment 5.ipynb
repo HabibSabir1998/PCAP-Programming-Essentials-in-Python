{
 "cells": [
  {
   "cell_type": "code",
   "execution_count": 9,
   "metadata": {},
   "outputs": [
    {
     "name": "stdin",
     "output_type": "stream",
     "text": [
      "Enter a number:  5\n"
     ]
    },
    {
     "name": "stdout",
     "output_type": "stream",
     "text": [
      "The factorial of 5 is 1\n",
      "The factorial of 5 is 2\n",
      "The factorial of 5 is 6\n",
      "The factorial of 5 is 24\n",
      "The factorial of 5 is 120\n"
     ]
    }
   ],
   "source": [
    "num = int(input(\"Enter a number: \"))\n",
    "def factorial(num):\n",
    "    factorial = 1\n",
    "\n",
    "    if num < 0:\n",
    "         print(\"Sorry, factorial does not exist for negative numbers\")\n",
    "    elif num == 0:\n",
    "         print(\"The factorial of 0 is 1\")\n",
    "    else:\n",
    "        for i in range(1,num + 1):\n",
    "             factorial = factorial*i\n",
    "             print(\"The factorial of\",num,\"is\",factorial)\n",
    "factorial(num)"
   ]
  },
  {
   "cell_type": "code",
   "execution_count": 1,
   "metadata": {},
   "outputs": [
    {
     "name": "stdout",
     "output_type": "stream",
     "text": [
      "Original String :  Habib Muhammad Sabir\n",
      "No. of Upper case characters :  3\n",
      "No. of Lower case Characters :  15\n"
     ]
    }
   ],
   "source": [
    "def string_test(word):\n",
    "    letter={\"UPPER_CASE\":0, \"LOWER_CASE\":0}\n",
    "    for case in word:\n",
    "        if case.isupper():\n",
    "            letter[\"UPPER_CASE\"]+=1\n",
    "        elif case.islower():\n",
    "            letter[\"LOWER_CASE\"]+=1\n",
    "        else:\n",
    "            pass\n",
    "    print (\"Original String : \", word)\n",
    "    print (\"No. of Upper case characters : \", letter[\"UPPER_CASE\"])\n",
    "    print (\"No. of Lower case Characters : \", letter[\"LOWER_CASE\"])\n",
    "\n",
    "string_test('Habib Muhammad Sabir')"
   ]
  },
  {
   "cell_type": "code",
   "execution_count": 33,
   "metadata": {},
   "outputs": [
    {
     "name": "stdout",
     "output_type": "stream",
     "text": [
      "[2, 4, 6, 8, 10] is even num\n"
     ]
    },
    {
     "data": {
      "text/plain": [
       "10"
      ]
     },
     "execution_count": 33,
     "metadata": {},
     "output_type": "execute_result"
    }
   ],
   "source": [
    "l = [2,3,4,5,6,7,8,9,10]\n",
    "def checkEvenNumber(i):\n",
    "    enum = []\n",
    "    for num in i:\n",
    "        if num % 2 == 0:            \n",
    "            enum.append(num)\n",
    "    print(\"{} is even num\".format(enum))\n",
    "    return num \n",
    "        \n",
    "checkEvenNumber(l)\n",
    "    \n",
    "        "
   ]
  },
  {
   "cell_type": "code",
   "execution_count": 34,
   "metadata": {},
   "outputs": [
    {
     "name": "stdin",
     "output_type": "stream",
     "text": [
      "enter a string  madam\n"
     ]
    },
    {
     "name": "stdout",
     "output_type": "stream",
     "text": [
      "The string is a palindrome.\n"
     ]
    }
   ],
   "source": [
    "string = input(\"enter a string \")\n",
    "def isPalindrome(str):\n",
    "    str = str.casefold()\n",
    "    revstr = reversed(str)\n",
    "    if list(str) == list(revstr):\n",
    "        print(\"The string is a palindrome.\")\n",
    "    else:\n",
    "        print(\"The string is not a palindrome.\")\n",
    "isPalindrome(string)"
   ]
  },
  {
   "cell_type": "code",
   "execution_count": null,
   "metadata": {},
   "outputs": [],
   "source": []
  }
 ],
 "metadata": {
  "kernelspec": {
   "display_name": "Python 3",
   "language": "python",
   "name": "python3"
  },
  "language_info": {
   "codemirror_mode": {
    "name": "ipython",
    "version": 3
   },
   "file_extension": ".py",
   "mimetype": "text/x-python",
   "name": "python",
   "nbconvert_exporter": "python",
   "pygments_lexer": "ipython3",
   "version": "3.7.3"
  }
 },
 "nbformat": 4,
 "nbformat_minor": 4
}
