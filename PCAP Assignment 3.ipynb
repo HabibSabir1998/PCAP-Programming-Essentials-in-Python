{
 "cells": [
  {
   "cell_type": "markdown",
   "metadata": {},
   "source": [
    "Make a calculator using Python with addition , subtraction , multiplication ,\n",
    "division and power."
   ]
  },
  {
   "cell_type": "code",
   "execution_count": 2,
   "metadata": {},
   "outputs": [
    {
     "name": "stdout",
     "output_type": "stream",
     "text": [
      "Enter your first number: 5\n",
      "Enter your second number: 5\n",
      "\n",
      "Please type in the math operation you would like to complete:\n",
      "+ for addition\n",
      "- for subtraction\n",
      "* for multiplication\n",
      "/ for division\n",
      "/\n",
      "5 / 5 = \n",
      "1.0\n"
     ]
    }
   ],
   "source": [
    "number_1 = int(input('Enter your first number: '))\n",
    "number_2 = int(input('Enter your second number: '))\n",
    "\n",
    "operation = input('''\n",
    "Please type in the math operation you would like to complete:\n",
    "+ for addition\n",
    "- for subtraction\n",
    "* for multiplication\n",
    "/ for division\n",
    "''')\n",
    "\n",
    "if operation == '+':\n",
    "    print('{} + {} = '.format(number_1, number_2))\n",
    "    print(number_1 + number_2)\n",
    "\n",
    "elif operation == '-':\n",
    "    print('{} - {} = '.format(number_1, number_2))\n",
    "    print(number_1 - number_2)\n",
    "\n",
    "elif operation == '*':\n",
    "    print('{} * {} = '.format(number_1, number_2))\n",
    "    print(number_1 * number_2)\n",
    "\n",
    "elif operation == '/':\n",
    "    print('{} / {} = '.format(number_1, number_2))\n",
    "    print(number_1 / number_2)\n",
    "\n",
    "else:\n",
    "    print('You have not typed a valid operator, please run the program again.')"
   ]
  },
  {
   "cell_type": "markdown",
   "metadata": {},
   "source": [
    "Write a program to check if there is any numeric value in list using for loop"
   ]
  },
  {
   "cell_type": "code",
   "execution_count": 5,
   "metadata": {},
   "outputs": [
    {
     "name": "stdout",
     "output_type": "stream",
     "text": [
      "yes the digit is ['1', '2', '3', '4']\n"
     ]
    }
   ],
   "source": [
    "mylist=['1','orange','2','3','4','apple']\n",
    "print(\"yes the digit is\",[x for x in mylist if x.isdigit()])"
   ]
  },
  {
   "cell_type": "markdown",
   "metadata": {},
   "source": [
    "Write a Python script to add a key to a dictionary"
   ]
  },
  {
   "cell_type": "code",
   "execution_count": 6,
   "metadata": {},
   "outputs": [
    {
     "name": "stdout",
     "output_type": "stream",
     "text": [
      "The Key Of Dict is:  {'key1': 'Habib', 'key2': 'Sabir'}\n"
     ]
    }
   ],
   "source": [
    "dict = {'key1':'Habib', 'key2':'Sabir'} \n",
    "print(\"The Key Of Dict is: \", dict) "
   ]
  },
  {
   "cell_type": "markdown",
   "metadata": {},
   "source": [
    "Write a Python program to sum all the numeric items in a dictionary"
   ]
  },
  {
   "cell_type": "code",
   "execution_count": 8,
   "metadata": {},
   "outputs": [
    {
     "name": "stdout",
     "output_type": "stream",
     "text": [
      "Total sum of values in the dictionary:\n",
      "500\n"
     ]
    }
   ],
   "source": [
    "dict={'A':100,'B':200,'C':200}\n",
    "print(\"Total sum of values in the dictionary:\")\n",
    "print(sum(dict.values()))"
   ]
  },
  {
   "cell_type": "markdown",
   "metadata": {},
   "source": [
    "Write a program to identify duplicate values from list"
   ]
  },
  {
   "cell_type": "code",
   "execution_count": 12,
   "metadata": {},
   "outputs": [
    {
     "name": "stdout",
     "output_type": "stream",
     "text": [
      "[20, 30, 60, 80]\n"
     ]
    }
   ],
   "source": [
    "def Repeat(x): \n",
    "    size = len(x) \n",
    "    repeated = [] \n",
    "    for i in range(size): \n",
    "        k = i + 1\n",
    "        for j in range(k, size): \n",
    "            if x[i] == x[j] and x[i] not in repeated: \n",
    "                repeated.append(x[i]) \n",
    "    return repeated \n",
    "\n",
    "list1 = [10, 20, 30, 20, 20, 30, 40,  \n",
    "         50, 70, 60, 60, 80, 80] \n",
    "print (Repeat(list1))"
   ]
  },
  {
   "cell_type": "markdown",
   "metadata": {},
   "source": [
    "Write a Python script to check if a given key already exists in a dictionary"
   ]
  },
  {
   "cell_type": "code",
   "execution_count": 14,
   "metadata": {},
   "outputs": [
    {
     "name": "stdout",
     "output_type": "stream",
     "text": [
      "Key is present in the dictionary\n",
      "Key is not present in the dictionary\n"
     ]
    }
   ],
   "source": [
    "dict = {1: 10, 2: 20, 3: 30, 4: 40, 5: 50, 6: 60}\n",
    "def PresentKey(x):\n",
    "  if x in dict:\n",
    "      print('Key is present in the dictionary')\n",
    "  else:\n",
    "      print('Key is not present in the dictionary')\n",
    "PresentKey(5)\n",
    "PresentKey(9)"
   ]
  },
  {
   "cell_type": "code",
   "execution_count": null,
   "metadata": {},
   "outputs": [],
   "source": []
  },
  {
   "cell_type": "code",
   "execution_count": null,
   "metadata": {},
   "outputs": [],
   "source": []
  },
  {
   "cell_type": "code",
   "execution_count": null,
   "metadata": {},
   "outputs": [],
   "source": []
  },
  {
   "cell_type": "code",
   "execution_count": null,
   "metadata": {},
   "outputs": [],
   "source": []
  },
  {
   "cell_type": "code",
   "execution_count": null,
   "metadata": {},
   "outputs": [],
   "source": []
  },
  {
   "cell_type": "code",
   "execution_count": null,
   "metadata": {},
   "outputs": [],
   "source": []
  }
 ],
 "metadata": {
  "kernelspec": {
   "display_name": "Python 3",
   "language": "python",
   "name": "python3"
  },
  "language_info": {
   "codemirror_mode": {
    "name": "ipython",
    "version": 3
   },
   "file_extension": ".py",
   "mimetype": "text/x-python",
   "name": "python",
   "nbconvert_exporter": "python",
   "pygments_lexer": "ipython3",
   "version": "3.7.3"
  }
 },
 "nbformat": 4,
 "nbformat_minor": 2
}
